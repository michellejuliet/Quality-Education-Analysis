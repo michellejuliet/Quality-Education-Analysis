{
 "cells": [
  {
   "cell_type": "markdown",
   "id": "eeb47a3a",
   "metadata": {},
   "source": [
    "<h1> Step 1: Understand the Problem and Context </h1>\n",
    "Objective: Help Nairobi County prioritize investments to improve equitable access to quality education in primary schools, aligning with SDG 4.\n",
    "Focus Areas:\n",
    "Infrastructure and resource gaps in primary schools.\n",
    "Geographic and demographic disparities in access to quality education.\n",
    "<h2> Step 2: Analyze the Data </h2>\n",
    "Education Facilities Data:\n",
    "Assess infrastructure indicators such as school capacity, classroom sizes, teacher-student ratios, and geo-locations.\n",
    "Identify schools with limited infrastructure or overcrowding issues.\n",
    "Kenya Population and Housing Census:\n",
    "Analyze demographic data to identify areas with higher populations of school-age children.\n",
    "Investigate socioeconomic disparities and their potential impact on access to education.\n",
    "<h2> Step 3: Hypotheses Development </h2>\n",
    "Initial Hypotheses:\n",
    "Schools in densely populated areas may have insufficient infrastructure.\n",
    "Socioeconomically disadvantaged areas have fewer well-resourced schools.\n",
    "Geographic distribution of schools might not align with population density.\n",
    "<h2> Step 4: Perform the Analysis </h2>\n",
    "Use Python for data cleaning, exploration, and visualization. Libraries such as Pandas, Matplotlib, Seaborn, and GeoPandas can be particularly useful.\n",
    "Analyze:\n",
    "Accessibility: Map schools relative to population density.\n",
    "Infrastructure Gaps: Highlight discrepancies in facilities like classroom numbers, electricity, or sanitation.\n",
    "Equity: Examine disparities in education access based on socioeconomic or geographic factors.\n",
    "<h2> Step 5: Prepare Insights and Recommendations </h2>\n",
    "Slide Structure:\n",
    "\n",
    "Cover Slide: Project title, date, and your details.\n",
    "Introduction: Problem statement, objectives, and key questions.\n",
    "Data Summary: Overview of datasets, key metrics, and assumptions.\n",
    "Analysis Results:\n",
    "Visualize geographic and demographic disparities.\n",
    "Highlight critical gaps in school infrastructure and resources.\n",
    "Recommendations:\n",
    "Prioritized list of actions based on the analysis (e.g., investment in specific schools/areas).\n",
    "Practical steps for implementation (aligned with SDGs).\n",
    "Conclusion:\n",
    "Summarize key findings and emphasize actionable points.\n",
    "<h2> Step 6: Document Code</h2>\n",
    "Ensure the code is modular, well-documented, and clean.\n",
    "Include comments explaining data cleaning steps, assumptions, and calculations.\n",
    "Prepare a README file summarizing how the code works and what it achieves."
   ]
  },
  {
   "cell_type": "code",
   "execution_count": 1,
   "id": "8be5f5b3",
   "metadata": {},
   "outputs": [],
   "source": [
    "import pandas as pd\n",
    "import numpy as np\n",
    "import seaborn as sns\n",
    "import matplotlib.pyplot as plt\n",
    "\n",
    "import warnings\n",
    "warnings.filterwarnings('ignore')"
   ]
  },
  {
   "cell_type": "code",
   "execution_count": 2,
   "id": "7a86f514",
   "metadata": {},
   "outputs": [],
   "source": [
    "df = pd.read_csv('kenya_primary_schools.csv')"
   ]
  },
  {
   "cell_type": "code",
   "execution_count": 3,
   "id": "73d548ab",
   "metadata": {},
   "outputs": [
    {
     "data": {
      "text/html": [
       "<div>\n",
       "<style scoped>\n",
       "    .dataframe tbody tr th:only-of-type {\n",
       "        vertical-align: middle;\n",
       "    }\n",
       "\n",
       "    .dataframe tbody tr th {\n",
       "        vertical-align: top;\n",
       "    }\n",
       "\n",
       "    .dataframe thead th {\n",
       "        text-align: right;\n",
       "    }\n",
       "</style>\n",
       "<table border=\"1\" class=\"dataframe\">\n",
       "  <thead>\n",
       "    <tr style=\"text-align: right;\">\n",
       "      <th></th>\n",
       "      <th>X</th>\n",
       "      <th>Y</th>\n",
       "      <th>FID</th>\n",
       "      <th>Name_of_Sc</th>\n",
       "      <th>Level_</th>\n",
       "      <th>Status</th>\n",
       "      <th>SchSponsor</th>\n",
       "      <th>Type1</th>\n",
       "      <th>Type2</th>\n",
       "      <th>Type3</th>\n",
       "      <th>...</th>\n",
       "      <th>OthersF</th>\n",
       "      <th>NoTeaching</th>\n",
       "      <th>NonTeachin</th>\n",
       "      <th>Province</th>\n",
       "      <th>District</th>\n",
       "      <th>Division</th>\n",
       "      <th>Location</th>\n",
       "      <th>Costituenc</th>\n",
       "      <th>Latitude</th>\n",
       "      <th>Longitude</th>\n",
       "    </tr>\n",
       "  </thead>\n",
       "  <tbody>\n",
       "    <tr>\n",
       "      <th>0</th>\n",
       "      <td>36.14</td>\n",
       "      <td>0.27</td>\n",
       "      <td>10001</td>\n",
       "      <td>CHEBIREBEI PRI</td>\n",
       "      <td>PRIMARY SCHOOL</td>\n",
       "      <td>PUBLIC</td>\n",
       "      <td>RELIGIOUS ORGANIZATION</td>\n",
       "      <td>MIXED</td>\n",
       "      <td>DAY ONLY</td>\n",
       "      <td>ORDINARY</td>\n",
       "      <td>...</td>\n",
       "      <td>0.0</td>\n",
       "      <td>0.0</td>\n",
       "      <td>0.0</td>\n",
       "      <td>RIFT VALLEY</td>\n",
       "      <td>KOIBATEK</td>\n",
       "      <td>KISANANA</td>\n",
       "      <td>MOGOTIO</td>\n",
       "      <td>SINENDE</td>\n",
       "      <td>0.27</td>\n",
       "      <td>36.14</td>\n",
       "    </tr>\n",
       "    <tr>\n",
       "      <th>1</th>\n",
       "      <td>36.17</td>\n",
       "      <td>0.26</td>\n",
       "      <td>10002</td>\n",
       "      <td>WASEGES PRI</td>\n",
       "      <td>PRIMARY SCHOOL</td>\n",
       "      <td>PUBLIC</td>\n",
       "      <td>RELIGIOUS ORGANIZATION</td>\n",
       "      <td>MIXED</td>\n",
       "      <td>DAY ONLY</td>\n",
       "      <td>ORDINARY</td>\n",
       "      <td>...</td>\n",
       "      <td>0.0</td>\n",
       "      <td>1.0</td>\n",
       "      <td>1.0</td>\n",
       "      <td>RIFT VALLEY</td>\n",
       "      <td>KOIBATEK</td>\n",
       "      <td>KISANANA</td>\n",
       "      <td>MOGOTIO</td>\n",
       "      <td>SINENDE</td>\n",
       "      <td>0.26</td>\n",
       "      <td>36.17</td>\n",
       "    </tr>\n",
       "    <tr>\n",
       "      <th>2</th>\n",
       "      <td>36.18</td>\n",
       "      <td>0.24</td>\n",
       "      <td>10003</td>\n",
       "      <td>KIRIBOT PRI</td>\n",
       "      <td>PRIMARY SCHOOL</td>\n",
       "      <td>PUBLIC</td>\n",
       "      <td>COMMUNITY</td>\n",
       "      <td>MIXED</td>\n",
       "      <td>DAY ONLY</td>\n",
       "      <td>ORDINARY</td>\n",
       "      <td>...</td>\n",
       "      <td>0.0</td>\n",
       "      <td>1.0</td>\n",
       "      <td>1.0</td>\n",
       "      <td>RIFT VALLEY</td>\n",
       "      <td>KOIBATEK</td>\n",
       "      <td>KISANANA</td>\n",
       "      <td>MOGOTIO</td>\n",
       "      <td>KABUSWO</td>\n",
       "      <td>0.24</td>\n",
       "      <td>36.18</td>\n",
       "    </tr>\n",
       "    <tr>\n",
       "      <th>3</th>\n",
       "      <td>36.19</td>\n",
       "      <td>0.21</td>\n",
       "      <td>10004</td>\n",
       "      <td>KABUSWO PRI SCH</td>\n",
       "      <td>PRIMARY SCHOOL</td>\n",
       "      <td>PUBLIC</td>\n",
       "      <td>COMMUNITY</td>\n",
       "      <td>MIXED</td>\n",
       "      <td>DAY ONLY</td>\n",
       "      <td>ORDINARY</td>\n",
       "      <td>...</td>\n",
       "      <td>0.0</td>\n",
       "      <td>2.0</td>\n",
       "      <td>0.0</td>\n",
       "      <td>RIFT VALLEY</td>\n",
       "      <td>KOIBATEK</td>\n",
       "      <td>KISANANA</td>\n",
       "      <td>MOGOTIO</td>\n",
       "      <td>KABUSWO</td>\n",
       "      <td>0.21</td>\n",
       "      <td>36.19</td>\n",
       "    </tr>\n",
       "    <tr>\n",
       "      <th>4</th>\n",
       "      <td>37.70</td>\n",
       "      <td>-0.88</td>\n",
       "      <td>10005</td>\n",
       "      <td>VONDENI PRI SCHOOL</td>\n",
       "      <td>PRIMARY SCHOOL</td>\n",
       "      <td>PUBLIC</td>\n",
       "      <td>COMMUNITY</td>\n",
       "      <td>MIXED</td>\n",
       "      <td>DAY ONLY</td>\n",
       "      <td>ORDINARY</td>\n",
       "      <td>...</td>\n",
       "      <td>0.0</td>\n",
       "      <td>1.0</td>\n",
       "      <td>1.0</td>\n",
       "      <td>EASTERN</td>\n",
       "      <td>MACHAKOS</td>\n",
       "      <td>MASINGA</td>\n",
       "      <td>KIVAA</td>\n",
       "      <td>MASINGA</td>\n",
       "      <td>-0.88</td>\n",
       "      <td>37.70</td>\n",
       "    </tr>\n",
       "  </tbody>\n",
       "</table>\n",
       "<p>5 rows × 38 columns</p>\n",
       "</div>"
      ],
      "text/plain": [
       "       X     Y    FID          Name_of_Sc          Level_  Status  \\\n",
       "0  36.14  0.27  10001      CHEBIREBEI PRI  PRIMARY SCHOOL  PUBLIC   \n",
       "1  36.17  0.26  10002         WASEGES PRI  PRIMARY SCHOOL  PUBLIC   \n",
       "2  36.18  0.24  10003         KIRIBOT PRI  PRIMARY SCHOOL  PUBLIC   \n",
       "3  36.19  0.21  10004     KABUSWO PRI SCH  PRIMARY SCHOOL  PUBLIC   \n",
       "4  37.70 -0.88  10005  VONDENI PRI SCHOOL  PRIMARY SCHOOL  PUBLIC   \n",
       "\n",
       "               SchSponsor  Type1     Type2     Type3  ...  OthersF  \\\n",
       "0  RELIGIOUS ORGANIZATION  MIXED  DAY ONLY  ORDINARY  ...      0.0   \n",
       "1  RELIGIOUS ORGANIZATION  MIXED  DAY ONLY  ORDINARY  ...      0.0   \n",
       "2               COMMUNITY  MIXED  DAY ONLY  ORDINARY  ...      0.0   \n",
       "3               COMMUNITY  MIXED  DAY ONLY  ORDINARY  ...      0.0   \n",
       "4               COMMUNITY  MIXED  DAY ONLY  ORDINARY  ...      0.0   \n",
       "\n",
       "   NoTeaching  NonTeachin     Province  District  Division  Location  \\\n",
       "0         0.0         0.0  RIFT VALLEY  KOIBATEK  KISANANA   MOGOTIO   \n",
       "1         1.0         1.0  RIFT VALLEY  KOIBATEK  KISANANA   MOGOTIO   \n",
       "2         1.0         1.0  RIFT VALLEY  KOIBATEK  KISANANA   MOGOTIO   \n",
       "3         2.0         0.0  RIFT VALLEY  KOIBATEK  KISANANA   MOGOTIO   \n",
       "4         1.0         1.0      EASTERN  MACHAKOS   MASINGA     KIVAA   \n",
       "\n",
       "   Costituenc  Latitude  Longitude  \n",
       "0     SINENDE      0.27      36.14  \n",
       "1     SINENDE      0.26      36.17  \n",
       "2     KABUSWO      0.24      36.18  \n",
       "3     KABUSWO      0.21      36.19  \n",
       "4     MASINGA     -0.88      37.70  \n",
       "\n",
       "[5 rows x 38 columns]"
      ]
     },
     "execution_count": 3,
     "metadata": {},
     "output_type": "execute_result"
    }
   ],
   "source": [
    "df.head()"
   ]
  },
  {
   "cell_type": "code",
   "execution_count": 4,
   "id": "b7290684",
   "metadata": {},
   "outputs": [
    {
     "data": {
      "text/plain": [
       "(31230, 38)"
      ]
     },
     "execution_count": 4,
     "metadata": {},
     "output_type": "execute_result"
    }
   ],
   "source": [
    "df.shape"
   ]
  },
  {
   "cell_type": "code",
   "execution_count": 5,
   "id": "a5eadb5f",
   "metadata": {},
   "outputs": [
    {
     "data": {
      "text/plain": [
       "Index(['X', 'Y', 'FID', 'Name_of_Sc', 'Level_', 'Status', 'SchSponsor',\n",
       "       'Type1', 'Type2', 'Type3', 'PupilTeach', 'ClassrmRat', 'ToiletRati',\n",
       "       'No_Classrm', 'BoysToilet', 'GirlsToilet', 'TeachersTo', 'TotalToile',\n",
       "       'TotalBoys', 'TotalGirls', 'TotalEnrol', 'GO_KTSC_M', 'GOK_TSC_F',\n",
       "       'authorityM', 'authorityF', 'PTA_BOG_M', 'PTA_BOG_F', 'OthersM',\n",
       "       'OthersF', 'NoTeaching', 'NonTeachin', 'Province', 'District',\n",
       "       'Division', 'Location', 'Costituenc', 'Latitude', 'Longitude'],\n",
       "      dtype='object')"
      ]
     },
     "execution_count": 5,
     "metadata": {},
     "output_type": "execute_result"
    }
   ],
   "source": [
    "df.columns"
   ]
  },
  {
   "cell_type": "markdown",
   "id": "9bca177f",
   "metadata": {},
   "source": [
    "<h2> Potential Analysis and Recommendations </h2>\n",
    "\n",
    "1. Infrastructure Gap Analysis: \n",
    "- Identify schools with inadequate infrastructure such as lack of classrooms, sanitation facilities.\n",
    "- Prioritize investements. Recommend allocating resources to upgrade or build new facilities in these areas.\n",
    "- Visualize: Create maps/charts to highlight the geographic distributionof schools with infrastructure needs.\n",
    "\n",
    "2. Student-Teacher Ratio Analysis:\n",
    "- Calculate student-teacher ratios. Identify areas where the ratio is significantly higher to improve the quality of education.Recommend teacher recruitment.\n",
    "\n",
    "3. Accessiblity Analysis:\n",
    "- Identify schools with poor accessiblity. Analyze the geolocation data to identify schools that are far from residential areas or have poor raod connectivity. Recommend transportation solutions. Suggest initiatives like school bus services or infrastructure improvements to enhance accessibility.\n",
    "\n",
    "4. Demographic Analysis:\n",
    "- Identify areas with high population growth. Analyze the Population Census Data to identify areas with high population growth rates.\n",
    "- Anticipate future needs. recommend proactive measures to accommodate future increases in school enrollment.\n",
    "\n",
    "5. Equity Analysis:\n",
    "- Identify disparities in education access. Analyze the data to identify any disparities in access to education based on factors like gender, socioeconomic status or geographic location.\n",
    "- Recommendtargeted interventions. Suggest initiatives to address these disparities such as scholarships, mentorship programs, or specialized educational programs."
   ]
  },
  {
   "cell_type": "code",
   "execution_count": 6,
   "id": "4d718a9b",
   "metadata": {},
   "outputs": [
    {
     "name": "stdout",
     "output_type": "stream",
     "text": [
      "<class 'pandas.core.frame.DataFrame'>\n",
      "RangeIndex: 31230 entries, 0 to 31229\n",
      "Data columns (total 38 columns):\n",
      " #   Column       Non-Null Count  Dtype  \n",
      "---  ------       --------------  -----  \n",
      " 0   X            31230 non-null  float64\n",
      " 1   Y            31230 non-null  float64\n",
      " 2   FID          31230 non-null  int64  \n",
      " 3   Name_of_Sc   31229 non-null  object \n",
      " 4   Level_       31229 non-null  object \n",
      " 5   Status       31229 non-null  object \n",
      " 6   SchSponsor   31229 non-null  object \n",
      " 7   Type1        31229 non-null  object \n",
      " 8   Type2        31229 non-null  object \n",
      " 9   Type3        31229 non-null  object \n",
      " 10  PupilTeach   31229 non-null  float64\n",
      " 11  ClassrmRat   31229 non-null  float64\n",
      " 12  ToiletRati   31229 non-null  float64\n",
      " 13  No_Classrm   31229 non-null  float64\n",
      " 14  BoysToilet   31229 non-null  float64\n",
      " 15  GirlsToilet  31229 non-null  float64\n",
      " 16  TeachersTo   31229 non-null  float64\n",
      " 17  TotalToile   31229 non-null  float64\n",
      " 18  TotalBoys    31229 non-null  float64\n",
      " 19  TotalGirls   31229 non-null  float64\n",
      " 20  TotalEnrol   31229 non-null  float64\n",
      " 21  GO_KTSC_M    31229 non-null  float64\n",
      " 22  GOK_TSC_F    31229 non-null  float64\n",
      " 23  authorityM   31229 non-null  float64\n",
      " 24  authorityF   31229 non-null  float64\n",
      " 25  PTA_BOG_M    31229 non-null  float64\n",
      " 26  PTA_BOG_F    31229 non-null  float64\n",
      " 27  OthersM      31229 non-null  float64\n",
      " 28  OthersF      31229 non-null  float64\n",
      " 29  NoTeaching   31229 non-null  float64\n",
      " 30  NonTeachin   31229 non-null  float64\n",
      " 31  Province     31229 non-null  object \n",
      " 32  District     31229 non-null  object \n",
      " 33  Division     31229 non-null  object \n",
      " 34  Location     31229 non-null  object \n",
      " 35  Costituenc   31229 non-null  object \n",
      " 36  Latitude     31229 non-null  float64\n",
      " 37  Longitude    31229 non-null  float64\n",
      "dtypes: float64(25), int64(1), object(12)\n",
      "memory usage: 9.1+ MB\n"
     ]
    }
   ],
   "source": [
    "df.info()"
   ]
  },
  {
   "cell_type": "code",
   "execution_count": 7,
   "id": "88d5febf",
   "metadata": {},
   "outputs": [],
   "source": [
    "# Data Cleaning\n",
    "df.columns = df.columns.str.strip().str.lower()  # Normalize column names\n",
    "df.rename(columns={\n",
    "    'name_of_sc': 'school_name',\n",
    "    'no_classrm': 'classrooms',\n",
    "    'boystoilet': 'boys_toilet',\n",
    "    'girlstoilet': 'girls_toilet',\n",
    "    'teachers_to': 'teachers',\n",
    "    'totaltoile': 'total_toilets',\n",
    "    'totalboys': 'total_boys',\n",
    "    'totalgirls': 'total_girls',\n",
    "    'totalenrol': 'total_enrollment',\n",
    "    'classrmrat': 'classroom_ratio',\n",
    "    'toiletrati': 'toilet_ratio'\n",
    "}, inplace=True)"
   ]
  },
  {
   "cell_type": "code",
   "execution_count": 34,
   "id": "11d0aedd",
   "metadata": {},
   "outputs": [
    {
     "data": {
      "text/plain": [
       "<Axes: xlabel='Sub-county', ylabel='Count'>"
      ]
     },
     "execution_count": 34,
     "metadata": {},
     "output_type": "execute_result"
    },
    {
     "data": {
      "image/png": "[encoded data removed]",
      "text/plain": [
       "<Figure size 640x480 with 1 Axes>"
      ]
     },
     "metadata": {},
     "output_type": "display_data"
    }
   ],
   "source": [
    "df['province'].value_counts().plot(kind='bar', xlabel='Sub-county', ylabel='Count')"
   ]
  },
  {
   "cell_type": "code",
   "execution_count": 8,
   "id": "d95df7b3",
   "metadata": {},
   "outputs": [],
   "source": [
    "df = df[df['province']== 'NAIROBI']"
   ]
  },
  {
   "cell_type": "code",
   "execution_count": 28,
   "id": "b3865f28",
   "metadata": {},
   "outputs": [
    {
     "data": {
      "text/html": [
       "<div>\n",
       "<style scoped>\n",
       "    .dataframe tbody tr th:only-of-type {\n",
       "        vertical-align: middle;\n",
       "    }\n",
       "\n",
       "    .dataframe tbody tr th {\n",
       "        vertical-align: top;\n",
       "    }\n",
       "\n",
       "    .dataframe thead th {\n",
       "        text-align: right;\n",
       "    }\n",
       "</style>\n",
       "<table border=\"1\" class=\"dataframe\">\n",
       "  <thead>\n",
       "    <tr style=\"text-align: right;\">\n",
       "      <th></th>\n",
       "      <th>x</th>\n",
       "      <th>y</th>\n",
       "      <th>fid</th>\n",
       "      <th>school_name</th>\n",
       "      <th>level_</th>\n",
       "      <th>status</th>\n",
       "      <th>schsponsor</th>\n",
       "      <th>type1</th>\n",
       "      <th>type2</th>\n",
       "      <th>type3</th>\n",
       "      <th>...</th>\n",
       "      <th>province</th>\n",
       "      <th>district</th>\n",
       "      <th>division</th>\n",
       "      <th>location</th>\n",
       "      <th>costituenc</th>\n",
       "      <th>latitude</th>\n",
       "      <th>longitude</th>\n",
       "      <th>student_teacher_ratio</th>\n",
       "      <th>classroom_student_ratio</th>\n",
       "      <th>toilet_student_ratio</th>\n",
       "    </tr>\n",
       "  </thead>\n",
       "  <tbody>\n",
       "    <tr>\n",
       "      <th>587</th>\n",
       "      <td>36.85</td>\n",
       "      <td>-1.26</td>\n",
       "      <td>10588</td>\n",
       "      <td>BRIGHT ACADEMY PR</td>\n",
       "      <td>PRIMARY SCHOOL</td>\n",
       "      <td>PRIVATE</td>\n",
       "      <td>NGO/CBO</td>\n",
       "      <td>MIXED</td>\n",
       "      <td>DAY ONLY</td>\n",
       "      <td>ORDINARY</td>\n",
       "      <td>...</td>\n",
       "      <td>NAIROBI</td>\n",
       "      <td>NAIROBI</td>\n",
       "      <td>STAREHE</td>\n",
       "      <td>MATHARE</td>\n",
       "      <td>STAREHE</td>\n",
       "      <td>-1.26</td>\n",
       "      <td>36.85</td>\n",
       "      <td>20.000000</td>\n",
       "      <td>20.000000</td>\n",
       "      <td>inf</td>\n",
       "    </tr>\n",
       "    <tr>\n",
       "      <th>13645</th>\n",
       "      <td>36.91</td>\n",
       "      <td>-1.27</td>\n",
       "      <td>8646</td>\n",
       "      <td>DIWOPA PRI SCH</td>\n",
       "      <td>PRIMARY SCHOOL</td>\n",
       "      <td>PRIVATE</td>\n",
       "      <td>PRIVATE INDIVIDUAL</td>\n",
       "      <td></td>\n",
       "      <td></td>\n",
       "      <td>ORDINARY</td>\n",
       "      <td>...</td>\n",
       "      <td>NAIROBI</td>\n",
       "      <td>NAIROBI</td>\n",
       "      <td>EMBAKASI</td>\n",
       "      <td>KAYOLE</td>\n",
       "      <td>EMBAKASI</td>\n",
       "      <td>-1.27</td>\n",
       "      <td>36.91</td>\n",
       "      <td>NaN</td>\n",
       "      <td>NaN</td>\n",
       "      <td>NaN</td>\n",
       "    </tr>\n",
       "    <tr>\n",
       "      <th>20270</th>\n",
       "      <td>36.75</td>\n",
       "      <td>-1.28</td>\n",
       "      <td>21271</td>\n",
       "      <td>GATINA PRI SCH</td>\n",
       "      <td>PRIMARY SCHOOL</td>\n",
       "      <td>PUBLIC</td>\n",
       "      <td>LOCAL GOVERNMENT AUTHORITY</td>\n",
       "      <td>MIXED</td>\n",
       "      <td>DAY ONLY</td>\n",
       "      <td>ORDINARY</td>\n",
       "      <td>...</td>\n",
       "      <td>NAIROBI</td>\n",
       "      <td>NAIROBI</td>\n",
       "      <td>DAGORETTI</td>\n",
       "      <td>KAWANGWARE</td>\n",
       "      <td>DAGORETTI</td>\n",
       "      <td>-1.28</td>\n",
       "      <td>36.75</td>\n",
       "      <td>142.333333</td>\n",
       "      <td>50.235294</td>\n",
       "      <td>inf</td>\n",
       "    </tr>\n",
       "    <tr>\n",
       "      <th>20276</th>\n",
       "      <td>36.76</td>\n",
       "      <td>-1.27</td>\n",
       "      <td>21277</td>\n",
       "      <td>MUGWAM EDUC CENTRE PRI SCHOOL</td>\n",
       "      <td>PRIMARY SCHOOL</td>\n",
       "      <td>PRIVATE</td>\n",
       "      <td>PRIVATE INDIVIDUAL</td>\n",
       "      <td>MIXED</td>\n",
       "      <td>DAY ONLY</td>\n",
       "      <td>ORDINARY</td>\n",
       "      <td>...</td>\n",
       "      <td>NAIROBI</td>\n",
       "      <td>NAIROBI</td>\n",
       "      <td>DAGORETTI</td>\n",
       "      <td>KAWANGWARE</td>\n",
       "      <td>DAGORETTI</td>\n",
       "      <td>-1.27</td>\n",
       "      <td>36.76</td>\n",
       "      <td>24.000000</td>\n",
       "      <td>4.800000</td>\n",
       "      <td>inf</td>\n",
       "    </tr>\n",
       "    <tr>\n",
       "      <th>20282</th>\n",
       "      <td>36.76</td>\n",
       "      <td>-1.27</td>\n",
       "      <td>21283</td>\n",
       "      <td>MUGWAM EDUCATION CENTRE (PRI) SCH</td>\n",
       "      <td>PRIMARY SCHOOL</td>\n",
       "      <td>PRIVATE</td>\n",
       "      <td>PRIVATE INDIVIDUAL</td>\n",
       "      <td>MIXED</td>\n",
       "      <td>DAY ONLY</td>\n",
       "      <td>ORDINARY</td>\n",
       "      <td>...</td>\n",
       "      <td>NAIROBI</td>\n",
       "      <td>NAIROBI</td>\n",
       "      <td>DAGORETTI</td>\n",
       "      <td>KAWANGWARE</td>\n",
       "      <td>DAGORETTI</td>\n",
       "      <td>-1.27</td>\n",
       "      <td>36.76</td>\n",
       "      <td>24.000000</td>\n",
       "      <td>4.800000</td>\n",
       "      <td>inf</td>\n",
       "    </tr>\n",
       "  </tbody>\n",
       "</table>\n",
       "<p>5 rows × 41 columns</p>\n",
       "</div>"
      ],
      "text/plain": [
       "           x     y    fid                        school_name          level_  \\\n",
       "587    36.85 -1.26  10588                  BRIGHT ACADEMY PR  PRIMARY SCHOOL   \n",
       "13645  36.91 -1.27   8646                     DIWOPA PRI SCH  PRIMARY SCHOOL   \n",
       "20270  36.75 -1.28  21271                     GATINA PRI SCH  PRIMARY SCHOOL   \n",
       "20276  36.76 -1.27  21277      MUGWAM EDUC CENTRE PRI SCHOOL  PRIMARY SCHOOL   \n",
       "20282  36.76 -1.27  21283  MUGWAM EDUCATION CENTRE (PRI) SCH  PRIMARY SCHOOL   \n",
       "\n",
       "        status                  schsponsor  type1     type2     type3  ...  \\\n",
       "587    PRIVATE                     NGO/CBO  MIXED  DAY ONLY  ORDINARY  ...   \n",
       "13645  PRIVATE          PRIVATE INDIVIDUAL                   ORDINARY  ...   \n",
       "20270   PUBLIC  LOCAL GOVERNMENT AUTHORITY  MIXED  DAY ONLY  ORDINARY  ...   \n",
       "20276  PRIVATE          PRIVATE INDIVIDUAL  MIXED  DAY ONLY  ORDINARY  ...   \n",
       "20282  PRIVATE          PRIVATE INDIVIDUAL  MIXED  DAY ONLY  ORDINARY  ...   \n",
       "\n",
       "       province  district   division    location  costituenc  latitude  \\\n",
       "587     NAIROBI   NAIROBI    STAREHE     MATHARE     STAREHE     -1.26   \n",
       "13645   NAIROBI   NAIROBI   EMBAKASI      KAYOLE    EMBAKASI     -1.27   \n",
       "20270   NAIROBI   NAIROBI  DAGORETTI  KAWANGWARE   DAGORETTI     -1.28   \n",
       "20276   NAIROBI   NAIROBI  DAGORETTI  KAWANGWARE   DAGORETTI     -1.27   \n",
       "20282   NAIROBI   NAIROBI  DAGORETTI  KAWANGWARE   DAGORETTI     -1.27   \n",
       "\n",
       "       longitude  student_teacher_ratio  classroom_student_ratio  \\\n",
       "587        36.85              20.000000                20.000000   \n",
       "13645      36.91                    NaN                      NaN   \n",
       "20270      36.75             142.333333                50.235294   \n",
       "20276      36.76              24.000000                 4.800000   \n",
       "20282      36.76              24.000000                 4.800000   \n",
       "\n",
       "       toilet_student_ratio  \n",
       "587                     inf  \n",
       "13645                   NaN  \n",
       "20270                   inf  \n",
       "20276                   inf  \n",
       "20282                   inf  \n",
       "\n",
       "[5 rows x 41 columns]"
      ]
     },
     "execution_count": 28,
     "metadata": {},
     "output_type": "execute_result"
    }
   ],
   "source": [
    "df.head()"
   ]
  },
  {
   "cell_type": "code",
   "execution_count": 29,
   "id": "035a0973",
   "metadata": {},
   "outputs": [
    {
     "data": {
      "text/plain": [
       "Index(['x', 'y', 'fid', 'school_name', 'level_', 'status', 'schsponsor',\n",
       "       'type1', 'type2', 'type3', 'pupilteach', 'classroom_ratio',\n",
       "       'toilet_ratio', 'classrooms', 'boys_toilet', 'girls_toilet',\n",
       "       'teachersto', 'total_toilets', 'total_boys', 'total_girls',\n",
       "       'total_enrollment', 'go_ktsc_m', 'gok_tsc_f', 'authoritym',\n",
       "       'authorityf', 'pta_bog_m', 'pta_bog_f', 'othersm', 'othersf',\n",
       "       'noteaching', 'nonteachin', 'province', 'district', 'division',\n",
       "       'location', 'costituenc', 'latitude', 'longitude',\n",
       "       'student_teacher_ratio', 'classroom_student_ratio',\n",
       "       'toilet_student_ratio'],\n",
       "      dtype='object')"
      ]
     },
     "execution_count": 29,
     "metadata": {},
     "output_type": "execute_result"
    }
   ],
   "source": [
    "df.columns"
   ]
  },
  {
   "cell_type": "code",
   "execution_count": 30,
   "id": "167d2a1c",
   "metadata": {},
   "outputs": [
    {
     "data": {
      "text/html": [
       "<div>\n",
       "<style scoped>\n",
       "    .dataframe tbody tr th:only-of-type {\n",
       "        vertical-align: middle;\n",
       "    }\n",
       "\n",
       "    .dataframe tbody tr th {\n",
       "        vertical-align: top;\n",
       "    }\n",
       "\n",
       "    .dataframe thead th {\n",
       "        text-align: right;\n",
       "    }\n",
       "</style>\n",
       "<table border=\"1\" class=\"dataframe\">\n",
       "  <thead>\n",
       "    <tr style=\"text-align: right;\">\n",
       "      <th></th>\n",
       "      <th>x</th>\n",
       "      <th>y</th>\n",
       "      <th>fid</th>\n",
       "      <th>pupilteach</th>\n",
       "      <th>classroom_ratio</th>\n",
       "      <th>toilet_ratio</th>\n",
       "      <th>classrooms</th>\n",
       "      <th>boys_toilet</th>\n",
       "      <th>girls_toilet</th>\n",
       "      <th>teachersto</th>\n",
       "      <th>...</th>\n",
       "      <th>pta_bog_f</th>\n",
       "      <th>othersm</th>\n",
       "      <th>othersf</th>\n",
       "      <th>noteaching</th>\n",
       "      <th>nonteachin</th>\n",
       "      <th>latitude</th>\n",
       "      <th>longitude</th>\n",
       "      <th>student_teacher_ratio</th>\n",
       "      <th>classroom_student_ratio</th>\n",
       "      <th>toilet_student_ratio</th>\n",
       "    </tr>\n",
       "  </thead>\n",
       "  <tbody>\n",
       "    <tr>\n",
       "      <th>count</th>\n",
       "      <td>1241.000000</td>\n",
       "      <td>1241.000000</td>\n",
       "      <td>1241.000000</td>\n",
       "      <td>1241.000000</td>\n",
       "      <td>1241.000000</td>\n",
       "      <td>1241.000000</td>\n",
       "      <td>1241.000000</td>\n",
       "      <td>1241.000000</td>\n",
       "      <td>1241.000000</td>\n",
       "      <td>1241.000000</td>\n",
       "      <td>...</td>\n",
       "      <td>1241.000000</td>\n",
       "      <td>1241.000000</td>\n",
       "      <td>1241.000000</td>\n",
       "      <td>1241.000000</td>\n",
       "      <td>1241.000000</td>\n",
       "      <td>1241.000000</td>\n",
       "      <td>1241.000000</td>\n",
       "      <td>1051.00</td>\n",
       "      <td>1052.000000</td>\n",
       "      <td>1030.0</td>\n",
       "    </tr>\n",
       "    <tr>\n",
       "      <th>mean</th>\n",
       "      <td>36.847647</td>\n",
       "      <td>-1.266535</td>\n",
       "      <td>22304.450443</td>\n",
       "      <td>18.025302</td>\n",
       "      <td>19.678807</td>\n",
       "      <td>27.739968</td>\n",
       "      <td>9.010475</td>\n",
       "      <td>3.697824</td>\n",
       "      <td>4.481869</td>\n",
       "      <td>1.788074</td>\n",
       "      <td>...</td>\n",
       "      <td>1.341660</td>\n",
       "      <td>1.896052</td>\n",
       "      <td>2.672844</td>\n",
       "      <td>1.937147</td>\n",
       "      <td>1.995165</td>\n",
       "      <td>-1.266535</td>\n",
       "      <td>36.847647</td>\n",
       "      <td>inf</td>\n",
       "      <td>inf</td>\n",
       "      <td>inf</td>\n",
       "    </tr>\n",
       "    <tr>\n",
       "      <th>std</th>\n",
       "      <td>0.066895</td>\n",
       "      <td>0.033501</td>\n",
       "      <td>653.722584</td>\n",
       "      <td>22.089667</td>\n",
       "      <td>19.008106</td>\n",
       "      <td>34.813212</td>\n",
       "      <td>8.413740</td>\n",
       "      <td>4.648767</td>\n",
       "      <td>5.979389</td>\n",
       "      <td>2.154003</td>\n",
       "      <td>...</td>\n",
       "      <td>2.779408</td>\n",
       "      <td>3.750225</td>\n",
       "      <td>5.021821</td>\n",
       "      <td>3.660722</td>\n",
       "      <td>2.957218</td>\n",
       "      <td>0.033501</td>\n",
       "      <td>0.066895</td>\n",
       "      <td>NaN</td>\n",
       "      <td>NaN</td>\n",
       "      <td>NaN</td>\n",
       "    </tr>\n",
       "    <tr>\n",
       "      <th>min</th>\n",
       "      <td>36.680000</td>\n",
       "      <td>-1.370000</td>\n",
       "      <td>8646.000000</td>\n",
       "      <td>0.000000</td>\n",
       "      <td>0.000000</td>\n",
       "      <td>0.000000</td>\n",
       "      <td>0.000000</td>\n",
       "      <td>0.000000</td>\n",
       "      <td>0.000000</td>\n",
       "      <td>0.000000</td>\n",
       "      <td>...</td>\n",
       "      <td>0.000000</td>\n",
       "      <td>0.000000</td>\n",
       "      <td>0.000000</td>\n",
       "      <td>0.000000</td>\n",
       "      <td>0.000000</td>\n",
       "      <td>-1.370000</td>\n",
       "      <td>36.680000</td>\n",
       "      <td>0.00</td>\n",
       "      <td>0.000000</td>\n",
       "      <td>inf</td>\n",
       "    </tr>\n",
       "    <tr>\n",
       "      <th>25%</th>\n",
       "      <td>36.790000</td>\n",
       "      <td>-1.290000</td>\n",
       "      <td>22043.000000</td>\n",
       "      <td>4.900000</td>\n",
       "      <td>5.000000</td>\n",
       "      <td>3.000000</td>\n",
       "      <td>3.000000</td>\n",
       "      <td>1.000000</td>\n",
       "      <td>1.000000</td>\n",
       "      <td>0.000000</td>\n",
       "      <td>...</td>\n",
       "      <td>0.000000</td>\n",
       "      <td>0.000000</td>\n",
       "      <td>0.000000</td>\n",
       "      <td>0.000000</td>\n",
       "      <td>0.000000</td>\n",
       "      <td>-1.290000</td>\n",
       "      <td>36.790000</td>\n",
       "      <td>50.00</td>\n",
       "      <td>10.551875</td>\n",
       "      <td>NaN</td>\n",
       "    </tr>\n",
       "    <tr>\n",
       "      <th>50%</th>\n",
       "      <td>36.870000</td>\n",
       "      <td>-1.270000</td>\n",
       "      <td>22353.000000</td>\n",
       "      <td>13.700000</td>\n",
       "      <td>15.700000</td>\n",
       "      <td>18.700000</td>\n",
       "      <td>8.000000</td>\n",
       "      <td>2.000000</td>\n",
       "      <td>2.000000</td>\n",
       "      <td>1.000000</td>\n",
       "      <td>...</td>\n",
       "      <td>0.000000</td>\n",
       "      <td>0.000000</td>\n",
       "      <td>0.000000</td>\n",
       "      <td>1.000000</td>\n",
       "      <td>1.000000</td>\n",
       "      <td>-1.270000</td>\n",
       "      <td>36.870000</td>\n",
       "      <td>117.00</td>\n",
       "      <td>19.866071</td>\n",
       "      <td>NaN</td>\n",
       "    </tr>\n",
       "    <tr>\n",
       "      <th>75%</th>\n",
       "      <td>36.900000</td>\n",
       "      <td>-1.250000</td>\n",
       "      <td>22663.000000</td>\n",
       "      <td>25.400000</td>\n",
       "      <td>28.500000</td>\n",
       "      <td>39.000000</td>\n",
       "      <td>12.000000</td>\n",
       "      <td>5.000000</td>\n",
       "      <td>6.000000</td>\n",
       "      <td>2.000000</td>\n",
       "      <td>...</td>\n",
       "      <td>2.000000</td>\n",
       "      <td>3.000000</td>\n",
       "      <td>4.000000</td>\n",
       "      <td>2.000000</td>\n",
       "      <td>3.000000</td>\n",
       "      <td>-1.250000</td>\n",
       "      <td>36.900000</td>\n",
       "      <td>311.25</td>\n",
       "      <td>33.223958</td>\n",
       "      <td>NaN</td>\n",
       "    </tr>\n",
       "    <tr>\n",
       "      <th>max</th>\n",
       "      <td>37.060000</td>\n",
       "      <td>-1.170000</td>\n",
       "      <td>22995.000000</td>\n",
       "      <td>289.000000</td>\n",
       "      <td>179.000000</td>\n",
       "      <td>440.500000</td>\n",
       "      <td>56.000000</td>\n",
       "      <td>26.000000</td>\n",
       "      <td>38.000000</td>\n",
       "      <td>26.000000</td>\n",
       "      <td>...</td>\n",
       "      <td>27.000000</td>\n",
       "      <td>51.000000</td>\n",
       "      <td>46.000000</td>\n",
       "      <td>41.000000</td>\n",
       "      <td>35.000000</td>\n",
       "      <td>-1.170000</td>\n",
       "      <td>37.060000</td>\n",
       "      <td>inf</td>\n",
       "      <td>inf</td>\n",
       "      <td>inf</td>\n",
       "    </tr>\n",
       "  </tbody>\n",
       "</table>\n",
       "<p>8 rows × 29 columns</p>\n",
       "</div>"
      ],
      "text/plain": [
       "                 x            y           fid   pupilteach  classroom_ratio  \\\n",
       "count  1241.000000  1241.000000   1241.000000  1241.000000      1241.000000   \n",
       "mean     36.847647    -1.266535  22304.450443    18.025302        19.678807   \n",
       "std       0.066895     0.033501    653.722584    22.089667        19.008106   \n",
       "min      36.680000    -1.370000   8646.000000     0.000000         0.000000   \n",
       "25%      36.790000    -1.290000  22043.000000     4.900000         5.000000   \n",
       "50%      36.870000    -1.270000  22353.000000    13.700000        15.700000   \n",
       "75%      36.900000    -1.250000  22663.000000    25.400000        28.500000   \n",
       "max      37.060000    -1.170000  22995.000000   289.000000       179.000000   \n",
       "\n",
       "       toilet_ratio   classrooms  boys_toilet  girls_toilet   teachersto  ...  \\\n",
       "count   1241.000000  1241.000000  1241.000000   1241.000000  1241.000000  ...   \n",
       "mean      27.739968     9.010475     3.697824      4.481869     1.788074  ...   \n",
       "std       34.813212     8.413740     4.648767      5.979389     2.154003  ...   \n",
       "min        0.000000     0.000000     0.000000      0.000000     0.000000  ...   \n",
       "25%        3.000000     3.000000     1.000000      1.000000     0.000000  ...   \n",
       "50%       18.700000     8.000000     2.000000      2.000000     1.000000  ...   \n",
       "75%       39.000000    12.000000     5.000000      6.000000     2.000000  ...   \n",
       "max      440.500000    56.000000    26.000000     38.000000    26.000000  ...   \n",
       "\n",
       "         pta_bog_f      othersm      othersf   noteaching   nonteachin  \\\n",
       "count  1241.000000  1241.000000  1241.000000  1241.000000  1241.000000   \n",
       "mean      1.341660     1.896052     2.672844     1.937147     1.995165   \n",
       "std       2.779408     3.750225     5.021821     3.660722     2.957218   \n",
       "min       0.000000     0.000000     0.000000     0.000000     0.000000   \n",
       "25%       0.000000     0.000000     0.000000     0.000000     0.000000   \n",
       "50%       0.000000     0.000000     0.000000     1.000000     1.000000   \n",
       "75%       2.000000     3.000000     4.000000     2.000000     3.000000   \n",
       "max      27.000000    51.000000    46.000000    41.000000    35.000000   \n",
       "\n",
       "          latitude    longitude  student_teacher_ratio  \\\n",
       "count  1241.000000  1241.000000                1051.00   \n",
       "mean     -1.266535    36.847647                    inf   \n",
       "std       0.033501     0.066895                    NaN   \n",
       "min      -1.370000    36.680000                   0.00   \n",
       "25%      -1.290000    36.790000                  50.00   \n",
       "50%      -1.270000    36.870000                 117.00   \n",
       "75%      -1.250000    36.900000                 311.25   \n",
       "max      -1.170000    37.060000                    inf   \n",
       "\n",
       "       classroom_student_ratio  toilet_student_ratio  \n",
       "count              1052.000000                1030.0  \n",
       "mean                       inf                   inf  \n",
       "std                        NaN                   NaN  \n",
       "min                   0.000000                   inf  \n",
       "25%                  10.551875                   NaN  \n",
       "50%                  19.866071                   NaN  \n",
       "75%                  33.223958                   NaN  \n",
       "max                        inf                   inf  \n",
       "\n",
       "[8 rows x 29 columns]"
      ]
     },
     "execution_count": 30,
     "metadata": {},
     "output_type": "execute_result"
    }
   ],
   "source": [
    "df.describe()"
   ]
  },
  {
   "cell_type": "markdown",
   "id": "33dadeea",
   "metadata": {},
   "source": [
    "<h2> Infrastructure Gap Analysis </h2>"
   ]
  },
  {
   "cell_type": "code",
   "execution_count": 9,
   "id": "95fd597c",
   "metadata": {},
   "outputs": [
    {
     "data": {
      "text/plain": [
       "<Axes: xlabel='classrooms'>"
      ]
     },
     "execution_count": 9,
     "metadata": {},
     "output_type": "execute_result"
    },
    {
     "data": {
      "image/png": "[encoded data removed]",
      "text/plain": [
       "<Figure size 640x480 with 1 Axes>"
      ]
     },
     "metadata": {},
     "output_type": "display_data"
    }
   ],
   "source": [
    "classrms=df['classrooms'].value_counts()\n",
    "classrms.plot(kind='bar')"
   ]
  },
  {
   "cell_type": "code",
   "execution_count": null,
   "id": "973bd36f",
   "metadata": {},
   "outputs": [],
   "source": []
  },
  {
   "cell_type": "markdown",
   "id": "9033ac9f",
   "metadata": {},
   "source": [
    "<h2> Geographic Analysis </h2>"
   ]
  },
  {
   "cell_type": "code",
   "execution_count": 11,
   "id": "31b0dcd1",
   "metadata": {},
   "outputs": [
    {
     "data": {
      "text/plain": [
       "Index(['x', 'y', 'fid', 'school_name', 'level_', 'status', 'schsponsor',\n",
       "       'type1', 'type2', 'type3', 'pupilteach', 'classroom_ratio',\n",
       "       'toilet_ratio', 'classrooms', 'boys_toilet', 'girls_toilet',\n",
       "       'teachersto', 'total_toilets', 'total_boys', 'total_girls',\n",
       "       'total_enrollment', 'go_ktsc_m', 'gok_tsc_f', 'authoritym',\n",
       "       'authorityf', 'pta_bog_m', 'pta_bog_f', 'othersm', 'othersf',\n",
       "       'noteaching', 'nonteachin', 'province', 'district', 'division',\n",
       "       'location', 'costituenc', 'latitude', 'longitude'],\n",
       "      dtype='object')"
      ]
     },
     "execution_count": 11,
     "metadata": {},
     "output_type": "execute_result"
    }
   ],
   "source": [
    "df.columns"
   ]
  },
  {
   "cell_type": "code",
   "execution_count": null,
   "id": "81279f3b",
   "metadata": {},
   "outputs": [],
   "source": []
  },
  {
   "cell_type": "code",
   "execution_count": 27,
   "id": "54da469c",
   "metadata": {},
   "outputs": [
    {
     "data": {
      "text/plain": [
       "division\n",
       "KASARANI     372\n",
       "EMBAKASI     244\n",
       "KIBERA       154\n",
       "DAGORETTI    133\n",
       "WESTLANDS    127\n",
       "STAREHE      107\n",
       "MAKADARA      61\n",
       "PUMWANI       43\n",
       "Name: count, dtype: int64"
      ]
     },
     "execution_count": 27,
     "metadata": {},
     "output_type": "execute_result"
    }
   ],
   "source": [
    "df['division'].value_counts().head(10)"
   ]
  },
  {
   "cell_type": "code",
   "execution_count": 14,
   "id": "bf565752",
   "metadata": {},
   "outputs": [
    {
     "data": {
      "text/plain": [
       "division\n",
       "KASARANI     372\n",
       "EMBAKASI     244\n",
       "KIBERA       154\n",
       "DAGORETTI    133\n",
       "WESTLANDS    127\n",
       "STAREHE      107\n",
       "MAKADARA      61\n",
       "PUMWANI       43\n",
       "Name: count, dtype: int64"
      ]
     },
     "execution_count": 14,
     "metadata": {},
     "output_type": "execute_result"
    }
   ],
   "source": [
    "df['division'].value_counts().tail(10)"
   ]
  },
  {
   "cell_type": "code",
   "execution_count": 32,
   "id": "dcd34498",
   "metadata": {},
   "outputs": [
    {
     "data": {
      "text/plain": [
       "location\n",
       "RUARAKA       76\n",
       "KARIOBANGI    71\n",
       "KASARANI      68\n",
       "KAYOLE        60\n",
       "GITHURAI      51\n",
       "UMOJA         49\n",
       "HURUMA        47\n",
       "KANGEMI       45\n",
       "DANDORA       45\n",
       "RIRUTA        43\n",
       "Name: count, dtype: int64"
      ]
     },
     "execution_count": 32,
     "metadata": {},
     "output_type": "execute_result"
    }
   ],
   "source": [
    "df['location'].value_counts().head(10)"
   ]
  },
  {
   "cell_type": "code",
   "execution_count": 33,
   "id": "9d65af3d",
   "metadata": {},
   "outputs": [
    {
     "data": {
      "text/plain": [
       "location\n",
       "SARANGOMBE    1\n",
       "KIATATHI      1\n",
       "FUATANYAYO    1\n",
       "PUMWANI       1\n",
       "OLYMPIC       1\n",
       "SOUTH B       1\n",
       "MIHANGO       1\n",
       "UTAWALA       1\n",
       "DOONHOLM      1\n",
       "UTALI         1\n",
       "Name: count, dtype: int64"
      ]
     },
     "execution_count": 33,
     "metadata": {},
     "output_type": "execute_result"
    }
   ],
   "source": [
    "df['location'].value_counts().tail(10)"
   ]
  },
  {
   "cell_type": "markdown",
   "id": "a392b87b",
   "metadata": {},
   "source": [
    "<h2> School Characteristics </h2>"
   ]
  },
  {
   "cell_type": "code",
   "execution_count": 15,
   "id": "84f65c38",
   "metadata": {},
   "outputs": [
    {
     "data": {
      "text/plain": [
       "<Axes: ylabel='count'>"
      ]
     },
     "execution_count": 15,
     "metadata": {},
     "output_type": "execute_result"
    },
    {
     "data": {
      "image/png": "[encoded data removed]",
      "text/plain": [
       "<Figure size 640x480 with 1 Axes>"
      ]
     },
     "metadata": {},
     "output_type": "display_data"
    }
   ],
   "source": [
    "df['status'].value_counts().plot(kind='pie')"
   ]
  },
  {
   "cell_type": "code",
   "execution_count": 16,
   "id": "73e843de",
   "metadata": {},
   "outputs": [
    {
     "data": {
      "text/plain": [
       "<Axes: xlabel='schsponsor'>"
      ]
     },
     "execution_count": 16,
     "metadata": {},
     "output_type": "execute_result"
    },
    {
     "data": {
      "image/png": "[encoded data removed]",
      "text/plain": [
       "<Figure size 640x480 with 1 Axes>"
      ]
     },
     "metadata": {},
     "output_type": "display_data"
    }
   ],
   "source": [
    "df['schsponsor'].value_counts().plot(kind='bar')"
   ]
  },
  {
   "cell_type": "code",
   "execution_count": 35,
   "id": "e542475d",
   "metadata": {},
   "outputs": [
    {
     "data": {
      "text/plain": [
       "<Axes: xlabel='schsponsor'>"
      ]
     },
     "execution_count": 35,
     "metadata": {},
     "output_type": "execute_result"
    },
    {
     "data": {
      "image/png": "[encoded data removed]",
      "text/plain": [
       "<Figure size 640x480 with 1 Axes>"
      ]
     },
     "metadata": {},
     "output_type": "display_data"
    }
   ],
   "source": [
    "df['schsponsor'].value_counts().tail(10).plot(kind='bar')"
   ]
  },
  {
   "cell_type": "markdown",
   "id": "7f5a98f7",
   "metadata": {},
   "source": [
    "<h2> Infrastructure and Resource Allocation </h2>"
   ]
  },
  {
   "cell_type": "code",
   "execution_count": 18,
   "id": "b38ac959",
   "metadata": {},
   "outputs": [],
   "source": [
    "# Calculate Additional Metrics\n",
    "df['student_teacher_ratio'] = df['total_enrollment'] / df['teachersto']\n",
    "df['classroom_student_ratio'] = df['total_enrollment'] / df['classrooms']\n",
    "df['toilet_student_ratio'] = df['total_enrollment'] / df['total_toilets']"
   ]
  },
  {
   "cell_type": "code",
   "execution_count": 31,
   "id": "d1578990",
   "metadata": {},
   "outputs": [
    {
     "name": "stdout",
     "output_type": "stream",
     "text": [
      "Number of schools with high student-teacher ratios: 828\n"
     ]
    }
   ],
   "source": [
    "# Analysis and Insights\n",
    "# 1. Schools with High Student-Teacher Ratios\n",
    "high_teacher_ratio = df[df['student_teacher_ratio'] > 40]\n",
    "print(f\"Number of schools with high student-teacher ratios: {len(high_teacher_ratio)}\")"
   ]
  },
  {
   "cell_type": "code",
   "execution_count": 20,
   "id": "21cb54f4",
   "metadata": {},
   "outputs": [
    {
     "name": "stdout",
     "output_type": "stream",
     "text": [
      "Number of schools with overcrowded classrooms: 193\n"
     ]
    }
   ],
   "source": [
    "# 2. Schools with Overcrowded Classrooms\n",
    "overcrowded_classrooms = df[df['clas sroom_student_ratio'] > 40]\n",
    "print(f\"Number of schools with overcrowded classrooms: {len(overcrowded_classrooms)}\")"
   ]
  },
  {
   "cell_type": "code",
   "execution_count": 21,
   "id": "d64a38eb",
   "metadata": {},
   "outputs": [
    {
     "name": "stdout",
     "output_type": "stream",
     "text": [
      "Number of schools with poor sanitation facilities: 1030\n"
     ]
    }
   ],
   "source": [
    "# 3. Schools with Poor Sanitation\n",
    "poor_sanitation = df[df['toilet_student_ratio'] > 25]\n",
    "print(f\"Number of schools with poor sanitation facilities: {len(poor_sanitation)}\")"
   ]
  },
  {
   "cell_type": "code",
   "execution_count": 22,
   "id": "2ba6d2fa",
   "metadata": {},
   "outputs": [
    {
     "data": {
      "image/png": "[encoded data removed]",
      "text/plain": [
       "<Figure size 1200x600 with 1 Axes>"
      ]
     },
     "metadata": {},
     "output_type": "display_data"
    }
   ],
   "source": [
    "# Visualization: Distribution of Ratios\n",
    "plt.figure(figsize=(12, 6))\n",
    "sns.histplot(df['student_teacher_ratio'], kde=True, bins=30, color='blue')\n",
    "plt.title('Distribution of Student-Teacher Ratios')\n",
    "plt.xlabel('Student-Teacher Ratio')\n",
    "plt.ylabel('Frequency')\n",
    "plt.axvline(30, color='red', linestyle='--', label='Recommended Limit')\n",
    "plt.legend()\n",
    "plt.show()"
   ]
  },
  {
   "cell_type": "markdown",
   "id": "f3d4532a",
   "metadata": {},
   "source": [
    "<h2> GeoSpatial Analysis </h2>"
   ]
  },
  {
   "cell_type": "code",
   "execution_count": 23,
   "id": "b06489ea",
   "metadata": {},
   "outputs": [],
   "source": [
    "import geopandas as gpd"
   ]
  },
  {
   "cell_type": "code",
   "execution_count": 24,
   "id": "6beab76b",
   "metadata": {},
   "outputs": [],
   "source": [
    "import folium"
   ]
  },
  {
   "cell_type": "code",
   "execution_count": 25,
   "id": "98390a70",
   "metadata": {},
   "outputs": [],
   "source": [
    "# Geospatial Mapping\n",
    "# Convert to GeoDataFrame\n",
    "geo_data = gpd.GeoDataFrame(df, geometry=gpd.points_from_xy(df['longitude'], df['latitude']))"
   ]
  },
  {
   "cell_type": "code",
   "execution_count": 26,
   "id": "fb8940ae",
   "metadata": {},
   "outputs": [],
   "source": [
    "# Create a Map\n",
    "school_map = folium.Map(location=[-1.286389, 36.817223], zoom_start=10)  # Nairobi's coordinates\n",
    "\n",
    "# Add Markers for Schools\n",
    "for _, row in high_teacher_ratio.iterrows():\n",
    "    folium.Marker(\n",
    "        location=[row['latitude'], row['longitude']],\n",
    "        popup=f\"School: {row['school_name']}\\nRatio: {row['student_teacher_ratio']:.2f}\",\n",
    "        icon=folium.Icon(color='red', icon='info-sign')\n",
    "    ).add_to(school_map)\n",
    "\n",
    "school_map.save('schools_map.html')"
   ]
  },
  {
   "cell_type": "code",
   "execution_count": null,
   "id": "633d37d2",
   "metadata": {},
   "outputs": [],
   "source": []
  }
 ],
 "metadata": {
  "kernelspec": {
   "display_name": "Python 3 (ipykernel)",
   "language": "python",
   "name": "python3"
  },
  "language_info": {
   "codemirror_mode": {
    "name": "ipython",
    "version": 3
   },
   "file_extension": ".py",
   "mimetype": "text/x-python",
   "name": "python",
   "nbconvert_exporter": "python",
   "pygments_lexer": "ipython3",
   "version": "3.10.2"
  }
 },
 "nbformat": 4,
 "nbformat_minor": 5
}
